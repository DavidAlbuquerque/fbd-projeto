{
 "cells": [
  {
   "cell_type": "code",
   "execution_count": null,
   "id": "46429083",
   "metadata": {},
   "outputs": [],
   "source": [
    "import os\n",
    "from dotenv import load_dotenv\n",
    "import pandas as pd\n",
    "import psycopg2 as pg\n",
    "import sqlalchemy\n",
    "from sqlalchemy import create_engine\n",
    "import panel as pn\n",
    "import datetime "
   ]
  },
  {
   "cell_type": "code",
   "execution_count": null,
   "id": "8ad65bbe",
   "metadata": {},
   "outputs": [],
   "source": [
    "# Carrega as variáveis do arquivo .env\n",
    "load_dotenv()"
   ]
  },
  {
   "cell_type": "code",
   "execution_count": null,
   "id": "f0e36f57",
   "metadata": {},
   "outputs": [],
   "source": [
    "# Lê as variáveis de ambiente\n",
    "DB_HOST = os.getenv('DB_HOST')\n",
    "DB_NAME = os.getenv('DB_NAME')\n",
    "DB_USER = os.getenv('DB_USER')\n",
    "DB_PASS = os.getenv('DB_PASS')"
   ]
  },
  {
   "cell_type": "code",
   "execution_count": null,
   "id": "21227357",
   "metadata": {},
   "outputs": [],
   "source": [
    "# Função para conectar ao banco de dados\n",
    "def get_connection():\n",
    "    conn = pg.connect(\n",
    "        host=DB_HOST,\n",
    "        dbname=DB_NAME,\n",
    "        user=DB_USER,\n",
    "        password=DB_PASS\n",
    "    )\n",
    "    return conn"
   ]
  },
  {
   "cell_type": "code",
   "execution_count": null,
   "id": "5e2e363b",
   "metadata": {},
   "outputs": [],
   "source": [
    "#funções auxiliares\n",
    "def get_profissionais_por_tipo(tipo):\n",
    "    conn = get_connection()\n",
    "    df = pd.read_sql(\"SELECT p.id, pessoa.pnome || ' ' || COALESCE(pessoa.mnome, '') || ' ' || pessoa.unome AS nome FROM profissional p JOIN pessoa ON p.id = pessoa.id WHERE LOWER(p.cargo) = LOWER(%s)\", conn, params=(tipo,))\n",
    "    conn.close()\n",
    "    return {row['nome']: row['id'] for _, row in df.iterrows()}\n",
    "\n",
    "\n",
    "def get_criancas():\n",
    "    conn = get_connection()\n",
    "    df = pd.read_sql(\"SELECT c.id, pessoa.pnome || ' ' || COALESCE(pessoa.mnome, '') || ' ' || pessoa.unome AS nome FROM crianca_adolescente c JOIN pessoa ON c.id = pessoa.id\", conn)\n",
    "    conn.close()\n",
    "    return {row['nome']: row['id'] for _, row in df.iterrows()}\n",
    "\n"
   ]
  },
  {
   "cell_type": "code",
   "execution_count": null,
   "id": "2dee69c4",
   "metadata": {},
   "outputs": [],
   "source": [
    "# Campo Select de Profissional que será atualizado\n",
    "id_profissional = pn.widgets.Select(name=\"Profissional\", options={})\n"
   ]
  },
  {
   "cell_type": "code",
   "execution_count": null,
   "id": "78f97b46",
   "metadata": {},
   "outputs": [],
   "source": [
    "# Função para agendar atendimento\n",
    "def agendar_atendimento(data, hora, status, frequencia, tipo, id_profissional, id_crianca_adolescente):\n",
    "    conn = get_connection()\n",
    "    cursor = conn.cursor()\n",
    "    \n",
    "    try:\n",
    "        # Inserir dados de atendimento\n",
    "        cursor.execute('''\n",
    "            INSERT INTO Agenda_Atendimento(data, hora, status, frequencia, tipo, id_profissional, id_crianca_adolescente)\n",
    "            VALUES (%s, %s, %s, %s, %s, %s, %s)\n",
    "        ''', (data, hora, status, frequencia, tipo, id_profissional, id_crianca_adolescente))\n",
    "        \n",
    "        conn.commit()\n",
    "        return \"Atendimento agendado com sucesso!\"\n",
    "    \n",
    "    except Exception as e:\n",
    "        return f\"Erro ao agendar atendimento: {e}\"\n",
    "    \n",
    "    finally:\n",
    "        cursor.close()\n",
    "        conn.close()"
   ]
  },
  {
   "cell_type": "code",
   "execution_count": null,
   "id": "188c4858",
   "metadata": {},
   "outputs": [],
   "source": [
    "# Widgets para inserir dados\n",
    "data = pn.widgets.DatePicker(name=\"Data do Atendimento\")\n",
    "hora = pn.widgets.TimePicker(name=\"Hora do Atendimento\", value=datetime.time(10, 0))\n",
    "status = pn.widgets.Select(\n",
    "    name=\"Status de Atendimento\", \n",
    "    options=[\"Agendado\", \"Concluido\", \"Cancelado\"],\n",
    "    value=\"Agendado\"  # Definindo um valor padrão\n",
    ")\n",
    "frequencia = pn.widgets.Select(\n",
    "    name=\"Frequência\", \n",
    "    options=[\"Semanal\", \"Mensal\", \"Quizenal\", \"Bimestral\"],\n",
    "    value=\"Semanal\"  # Definindo um valor padrão\n",
    ")\n",
    "# Alteração para usar o submódulo correto\n",
    "tipo = pn.widgets.Select(\n",
    "    name=\"Tipo de Atendimento\", \n",
    "    options=[\"Psicólogo\", \"Pedagogo\", \"Assistente Social\"],\n",
    "    value=\"Psicólogo\"  # Definindo um valor padrão\n",
    ")\n",
    "\n",
    "id_profissional = pn.widgets.Select(\n",
    "    name=\"Profissional\",\n",
    "    options=get_profissionais_por_tipo(tipo.value)\n",
    ")\n",
    "\n",
    "id_crianca_adolescente = pn.widgets.Select(\n",
    "    name=\"Criança/Adolescente\", \n",
    "    options=get_criancas()\n",
    ")"
   ]
  },
  {
   "cell_type": "code",
   "execution_count": null,
   "id": "b31cda75",
   "metadata": {},
   "outputs": [],
   "source": [
    "def atualizar_profissionais(event):\n",
    "    novos = get_profissionais_por_tipo(tipo.value)\n",
    "    if novos:\n",
    "        id_profissional.options = novos\n",
    "        id_profissional.value = list(novos.values())[0]  # Seleciona o primeiro por padrão\n",
    "    else:\n",
    "        id_profissional.options = {}\n",
    "        id_profissional.value = None\n"
   ]
  },
  {
   "cell_type": "code",
   "execution_count": null,
   "id": "14e90ffb",
   "metadata": {},
   "outputs": [],
   "source": [
    "tipo.param.watch(atualizar_profissionais, 'value')"
   ]
  },
  {
   "cell_type": "code",
   "execution_count": null,
   "id": "c4b3e5fe",
   "metadata": {},
   "outputs": [],
   "source": [
    "# Inicializa as extensões do Panel necessárias para exibir tabelas \n",
    "# interativas (Tabulator) e notificações na interface gráfica\n",
    "\n",
    "pn.extension()\n",
    "pn.extension('tabulator')\n",
    "pn.extension(notifications=True)"
   ]
  },
  {
   "cell_type": "code",
   "execution_count": null,
   "id": "bf919f73",
   "metadata": {},
   "outputs": [],
   "source": [
    "# Widget para inserir o ID do agendamento que será excluído\n",
    "data_filtro = pn.widgets.DatePicker(name=\"Filtrar por Data\")\n",
    "hora_filtro = pn.widgets.TimePicker(name=\"Filtrar por Hora\", value=None)"
   ]
  },
  {
   "cell_type": "code",
   "execution_count": null,
   "id": "5261ea09",
   "metadata": {},
   "outputs": [],
   "source": [
    "# Texto explicativo para os filtros\n",
    "texto_filtros = pn.pane.Markdown(\"\"\"\n",
    "**Filtros de Consulta:**\n",
    "- Preencha a data para filtrar por um dia específico.\n",
    "- Preencha a hora para filtrar por um horário específico (opcional).\n",
    "- Se não preencher a hora, todos os horários do dia selecionado serão exibidos.\n",
    "\"\"\")"
   ]
  },
  {
   "cell_type": "code",
   "execution_count": null,
   "id": "ed120582",
   "metadata": {},
   "outputs": [],
   "source": [
    "# Botão para limpar filtros\n",
    "def limpar_filtros(event):\n",
    "    data_filtro.value = None\n",
    "    hora_filtro.value = None\n",
    "\n",
    "button_limpar_filtros = pn.widgets.Button(name=\"Limpar Filtros\", button_type=\"warning\")\n",
    "button_limpar_filtros.on_click(limpar_filtros)"
   ]
  },
  {
   "cell_type": "code",
   "execution_count": null,
   "id": "f4895f32",
   "metadata": {},
   "outputs": [],
   "source": [
    "# Widget para inserir o ID do agendamento que será excluído\n",
    "id_agendamento = pn.widgets.TextInput(name=\"ID do Agendamento para Excluir e Editar\")  # Exemplo de valor padrão"
   ]
  },
  {
   "cell_type": "code",
   "execution_count": null,
   "id": "635fd0bb",
   "metadata": {},
   "outputs": [],
   "source": [
    "def consultar_agenda():\n",
    "    \"\"\"\n",
    "    Consulta todos os registros na tabela 'Agenda_Atendimento' com nomes legíveis, com opção de filtro por data e hora.\n",
    "    \"\"\"\n",
    "    try:\n",
    "        conn = get_connection()\n",
    "        \n",
    "        query = \"\"\"\n",
    "            SELECT a.id, a.data, a.hora, a.status, a.frequencia, a.tipo, \n",
    "                   pessoa_prof.pnome || ' ' || COALESCE(pessoa_prof.mnome, '') || ' ' || pessoa_prof.unome AS profissional, \n",
    "                   pessoa_crianca.pnome || ' ' || COALESCE(pessoa_crianca.mnome, '') || ' ' || pessoa_crianca.unome AS crianca \n",
    "            FROM Agenda_Atendimento a \n",
    "            JOIN profissional p ON a.id_profissional = p.id \n",
    "            JOIN pessoa pessoa_prof ON p.id = pessoa_prof.id \n",
    "            JOIN crianca_adolescente c ON a.id_crianca_adolescente = c.id \n",
    "            JOIN pessoa pessoa_crianca ON c.id = pessoa_crianca.id \n",
    "        \"\"\"\n",
    "        params = []\n",
    "        filtros = []\n",
    "        if data_filtro.value:\n",
    "            filtros.append(\"a.data = %s\")\n",
    "            params.append(data_filtro.value)\n",
    "        if hora_filtro.value:\n",
    "            filtros.append(\"a.hora = %s\")\n",
    "            params.append(str(hora_filtro.value))\n",
    "        if filtros:\n",
    "            query += \" WHERE \" + \" AND \".join(filtros)\n",
    "        query += \" ORDER BY a.data, a.hora\"\n",
    "        \n",
    "        df = pd.read_sql(query, conn, params=params)\n",
    "        conn.close()\n",
    "\n",
    "        if df.empty:\n",
    "            return pn.pane.Alert(\"Nenhum agendamento encontrado!\")\n",
    "\n",
    "        return pn.pane.DataFrame(df, width=900, height=400)\n",
    "\n",
    "    except Exception as e:\n",
    "        return pn.pane.Alert(f\"Erro na consulta: {e}\")\n"
   ]
  },
  {
   "cell_type": "code",
   "execution_count": null,
   "id": "cad77f19",
   "metadata": {},
   "outputs": [],
   "source": [
    "def on_excluir(event):\n",
    "    \"\"\"\n",
    "    Função para excluir um agendamento.\n",
    "    \"\"\"\n",
    "    try:\n",
    "        # Conectar ao banco de dados\n",
    "        conn = get_connection()\n",
    "        cursor = conn.cursor()\n",
    "        \n",
    "        # Excluir o agendamento com base no ID fornecido\n",
    "        cursor.execute(\"DELETE FROM Agenda_Atendimento WHERE id = %s\", (id_agendamento.value,))\n",
    "        \n",
    "        conn.commit()\n",
    "        cursor.close()\n",
    "        conn.close()\n",
    "        \n",
    "        return pn.pane.Alert('Agendamento excluído com sucesso!')\n",
    "    except Exception as e:\n",
    "        return pn.pane.Alert(f'Erro ao excluir agendamento: {e}')\n"
   ]
  },
  {
   "cell_type": "code",
   "execution_count": null,
   "id": "c1cca893",
   "metadata": {},
   "outputs": [],
   "source": [
    "def on_atualizar(event):\n",
    "    if not id_agendamento.value:\n",
    "        message.object = \"Por favor, selecione um agendamento para atualizar.\"\n",
    "        return\n",
    "\n",
    "    try:\n",
    "        # Conectar ao banco de dados\n",
    "        conn = get_connection()\n",
    "        cursor = conn.cursor()\n",
    "        \n",
    "        # Atualizar os dados do agendamento com base no ID fornecido (usando o widget id_agendamento)\n",
    "        cursor.execute(\"UPDATE Agenda_Atendimento SET data = %s, hora = %s, status = %s, frequencia = %s, tipo = %s, id_profissional = %s, id_crianca_adolescente = %s WHERE id = %s\", (\n",
    "            data.value, \n",
    "            hora.value, \n",
    "            status.value, \n",
    "            frequencia.value, \n",
    "            tipo.value, \n",
    "            id_profissional.value, \n",
    "            id_crianca_adolescente.value, \n",
    "            id_agendamento.value  # O ID do agendamento que será atualizado\n",
    "        ))\n",
    "        \n",
    "        # Confirmar a atualização\n",
    "        conn.commit()\n",
    "        cursor.close()\n",
    "        conn.close()\n",
    "        \n",
    "        return pn.pane.Alert('Agendamento atualizado com sucesso!')\n",
    "    except Exception as e:\n",
    "        return pn.pane.Alert(f'Erro ao atualizar agendamento: {e}')\n"
   ]
  },
  {
   "cell_type": "code",
   "execution_count": null,
   "id": "9d51bbc8",
   "metadata": {},
   "outputs": [],
   "source": [
    "# Função do botão para chamar a consulta\n",
    "def on_consultar_click(event):\n",
    "    \"\"\"\n",
    "    Chama a função de consulta e exibe a tabela no painel.\n",
    "    \"\"\"\n",
    "    table = consultar_agenda()  # Chama a função que retorna a tabela de agendamentos\n",
    "    if isinstance(table, pn.pane.DataFrame):\n",
    "        message.object = \"\"  # Limpar a mensagem anterior\n",
    "    else:\n",
    "        message.object = table  # Exibir erro, caso haja\n",
    "    if isinstance(table, pn.pane.DataFrame):\n",
    "        table_panel.object = table.object  # Isso atualiza o DataFrame interno\n",
    "        message.object = \"\"\n",
    "    else:\n",
    "        message.object = table"
   ]
  },
  {
   "cell_type": "code",
   "execution_count": null,
   "id": "cc4ed6a1",
   "metadata": {},
   "outputs": [],
   "source": [
    "# Botão para salvar\n",
    "button = pn.widgets.Button(name=\"Agendar Atendimento\", button_type=\"primary\")\n",
    "# Botão para realizar a consulta (mostrar todos os agendamentos)\n",
    "button_consultar = pn.widgets.Button(name=\"Consultar Agenda\", button_type=\"primary\")\n",
    "# botao para excluir\n",
    "button_excluir = pn.widgets.Button(name=\"Excluir Agendamento\", button_type=\"danger\")\n",
    "# Conectar o botão à função\n",
    "button_atualizar = pn.widgets.Button(name=\"Atualizar Agendamento\", button_type=\"primary\")"
   ]
  },
  {
   "cell_type": "code",
   "execution_count": null,
   "id": "44a494b3",
   "metadata": {},
   "outputs": [],
   "source": [
    "# Função do botão\n",
    "def on_agendar_click(event):\n",
    "    result = agendar_atendimento(\n",
    "        data.value,\n",
    "        hora.value,\n",
    "        status.value,\n",
    "        frequencia.value,\n",
    "        tipo.value,\n",
    "        id_profissional.value,\n",
    "        id_crianca_adolescente.value\n",
    "    )\n",
    "    message.object = result"
   ]
  },
  {
   "cell_type": "code",
   "execution_count": null,
   "id": "06239ce9",
   "metadata": {},
   "outputs": [],
   "source": [
    "# Mensagem de confirmação\n",
    "message = pn.pane.Markdown(\"\")\n",
    "table_panel = pn.pane.DataFrame(pd.DataFrame(), width=1000, height=400)"
   ]
  },
  {
   "cell_type": "code",
   "execution_count": null,
   "id": "be4e5c5a",
   "metadata": {},
   "outputs": [],
   "source": [
    "# Conectar o botão à função\n",
    "button.on_click(on_agendar_click)\n",
    "# Conectar o botão à função de consulta\n",
    "button_consultar.on_click(on_consultar_click)\n",
    "# Conectar o botão de exclusão à função de exclusão\n",
    "button_excluir.on_click(on_excluir)\n",
    "# Conectar o botão à função de atualizar\n",
    "button_atualizar.on_click(on_atualizar)"
   ]
  },
  {
   "cell_type": "code",
   "execution_count": null,
   "id": "1f30276e",
   "metadata": {},
   "outputs": [],
   "source": [
    "# Layout do painel\n",
    "formulario = pn.Column(\n",
    "    \"### Agendamento de Atendimento\",\n",
    "    data,\n",
    "    hora,\n",
    "    status,\n",
    "    frequencia,\n",
    "    tipo,\n",
    "    id_profissional,\n",
    "    id_crianca_adolescente,\n",
    "    texto_filtros,\n",
    "    data_filtro,\n",
    "    hora_filtro,\n",
    "    button_limpar_filtros,\n",
    "    id_agendamento,\n",
    "    button,\n",
    "    button_consultar,\n",
    "    button_excluir,\n",
    "    button_atualizar,\n",
    "    message\n",
    ")"
   ]
  },
  {
   "cell_type": "code",
   "execution_count": null,
   "id": "50ddcc06",
   "metadata": {},
   "outputs": [],
   "source": [
    "layout = pn.Row(\n",
    "    formulario,\n",
    "    pn.Spacer(width=50),  # espaço entre colunas (opcional)\n",
    "    table_panel\n",
    ")"
   ]
  },
  {
   "cell_type": "code",
   "execution_count": null,
   "id": "415c46cb",
   "metadata": {},
   "outputs": [],
   "source": [
    "# Exibir painel\n",
    "layout.servable()"
   ]
  },
  {
   "cell_type": "code",
   "execution_count": null,
   "id": "35610b25",
   "metadata": {},
   "outputs": [],
   "source": [
    "def preencher_campos_agendamento(event):\n",
    "    agendamento_id = id_agendamento.value\n",
    "    if not agendamento_id:\n",
    "        return\n",
    "    try:\n",
    "        conn = get_connection()\n",
    "        cursor = conn.cursor()\n",
    "        cursor.execute(\"\"\"\n",
    "            SELECT data, hora, status, frequencia, tipo, id_profissional, id_crianca_adolescente\n",
    "            FROM Agenda_Atendimento\n",
    "            WHERE id = %s\n",
    "        \"\"\", (agendamento_id,))\n",
    "        result = cursor.fetchone()\n",
    "        cursor.close()\n",
    "        conn.close()\n",
    "        if result:\n",
    "            data.value = result[0]\n",
    "            hora.value = result[1]\n",
    "            status.value = result[2]\n",
    "            frequencia.value = result[3]\n",
    "            tipo.value = result[4]\n",
    "            # Atualiza profissionais conforme o tipo\n",
    "            atualizar_profissionais(None)\n",
    "            id_profissional.value = result[5]\n",
    "            id_crianca_adolescente.value = result[6]\n",
    "        else:\n",
    "            message.object = f\"Agendamento com ID {agendamento_id} não encontrado.\"\n",
    "    except Exception as e:\n",
    "        message.object = f\"Erro ao buscar agendamento: {e}\"\n",
    "\n",
    "id_agendamento.param.watch(preencher_campos_agendamento, 'value')"
   ]
  }
 ],
 "metadata": {
  "kernelspec": {
   "display_name": "Python 3",
   "language": "python",
   "name": "python3"
  },
  "language_info": {
   "name": "python",
   "version": "3.12.3"
  }
 },
 "nbformat": 4,
 "nbformat_minor": 5
}
